{
 "cells": [
  {
   "cell_type": "markdown",
   "metadata": {},
   "source": [
    "# In this basic tutorial, you will learn the following:\n",
    "- Basic commands\n",
    "- Loading data\n",
    "- Plotting data"
   ]
  },
  {
   "cell_type": "markdown",
   "metadata": {},
   "source": [
    "This is a very brief and rough primer if you are new to Julia and wondering how to do simple things that are relevant for data analysis.\n",
    "Defining a vector"
   ]
  },
  {
   "cell_type": "code",
   "execution_count": 1,
   "metadata": {},
   "outputs": [
    {
     "name": "stdout",
     "output_type": "stream",
     "text": [
      "x = [1, 3, 2, 5]\n",
      "length(x) = 4\n"
     ]
    },
    {
     "data": {
      "text/plain": [
       "4"
      ]
     },
     "execution_count": 1,
     "metadata": {},
     "output_type": "execute_result"
    }
   ],
   "source": [
    "x = [1, 3, 2, 5]\n",
    "@show x\n",
    "@show length(x)"
   ]
  },
  {
   "cell_type": "markdown",
   "metadata": {},
   "source": [
    "Operations between vectors"
   ]
  },
  {
   "cell_type": "code",
   "execution_count": 2,
   "metadata": {},
   "outputs": [
    {
     "data": {
      "text/plain": [
       "4-element Vector{Int64}:\n",
       " 5\n",
       " 8\n",
       " 8\n",
       " 6"
      ]
     },
     "execution_count": 2,
     "metadata": {},
     "output_type": "execute_result"
    }
   ],
   "source": [
    "y = [4, 5, 6, 1]\n",
    "z = x .+ y #elementwise operation"
   ]
  },
  {
   "cell_type": "markdown",
   "metadata": {},
   "source": [
    "Defining a matrix"
   ]
  },
  {
   "cell_type": "code",
   "execution_count": 10,
   "metadata": {},
   "outputs": [
    {
     "data": {
      "text/plain": [
       "2×2 Matrix{Int64}:\n",
       " 1  2\n",
       " 3  4"
      ]
     },
     "execution_count": 10,
     "metadata": {},
     "output_type": "execute_result"
    }
   ],
   "source": [
    "X = [1  2 ; 3 4]"
   ]
  },
  {
   "cell_type": "markdown",
   "metadata": {},
   "source": [
    "You can also do that from a vector using the reshape function"
   ]
  },
  {
   "cell_type": "code",
   "execution_count": 8,
   "metadata": {},
   "outputs": [
    {
     "data": {
      "text/plain": [
       "2×2 Matrix{Int64}:\n",
       " 1  3\n",
       " 2  4"
      ]
     },
     "execution_count": 8,
     "metadata": {},
     "output_type": "execute_result"
    }
   ],
   "source": [
    "X = reshape([1, 2, 3, 4], 2, 2)"
   ]
  },
  {
   "cell_type": "markdown",
   "metadata": {},
   "source": [
    "But you have to be careful that it fills the matrix by column; so if you want to get the same result as before, you will need to permute the dimensions"
   ]
  },
  {
   "cell_type": "code",
   "execution_count": 9,
   "metadata": {},
   "outputs": [
    {
     "data": {
      "text/plain": [
       "2×2 Matrix{Int64}:\n",
       " 1  2\n",
       " 3  4"
      ]
     },
     "execution_count": 9,
     "metadata": {},
     "output_type": "execute_result"
    }
   ],
   "source": [
    "X = permutedims(reshape([1, 2, 3, 4], 2, 2))"
   ]
  },
  {
   "cell_type": "markdown",
   "metadata": {},
   "source": [
    "Function calls can be split with the |> operator so that the above can also be written"
   ]
  },
  {
   "cell_type": "code",
   "execution_count": 11,
   "metadata": {},
   "outputs": [
    {
     "data": {
      "text/plain": [
       "2×2 Matrix{Int64}:\n",
       " 1  2\n",
       " 3  4"
      ]
     },
     "execution_count": 11,
     "metadata": {},
     "output_type": "execute_result"
    }
   ],
   "source": [
    "X = reshape([1,2,3,4], 2, 2) |> permutedims"
   ]
  },
  {
   "cell_type": "markdown",
   "metadata": {},
   "source": [
    "You do not have to do that of course but we will sometimes use it in these tutorials.\n",
    "There's a wealth of functions available for simple math operations"
   ]
  },
  {
   "cell_type": "code",
   "execution_count": 12,
   "metadata": {},
   "outputs": [
    {
     "name": "stdout",
     "output_type": "stream",
     "text": [
      "x ^ 2 = 16\n",
      "sqrt(x) = 2.0\n"
     ]
    },
    {
     "data": {
      "text/plain": [
       "2.0"
      ]
     },
     "execution_count": 12,
     "metadata": {},
     "output_type": "execute_result"
    }
   ],
   "source": [
    "x = 4\n",
    "@show x^2\n",
    "@show sqrt(x)"
   ]
  },
  {
   "cell_type": "markdown",
   "metadata": {},
   "source": [
    "Element wise operations on a collection can be done with the dot syntax:"
   ]
  },
  {
   "cell_type": "code",
   "execution_count": 13,
   "metadata": {
    "scrolled": true
   },
   "outputs": [
    {
     "data": {
      "text/plain": [
       "3-element Vector{Float64}:\n",
       " 2.0\n",
       " 3.0\n",
       " 4.0"
      ]
     },
     "execution_count": 13,
     "metadata": {},
     "output_type": "execute_result"
    }
   ],
   "source": [
    "sqrt.([4, 9, 16])"
   ]
  },
  {
   "cell_type": "markdown",
   "metadata": {},
   "source": [
    "The packages Statistics (from the standard library) and StatsBase offer a number of useful function for stats:\n",
    "\n",
    "using Statistics, StatsBase\n",
    "Note that if you don't have StatsBase, you can add it using using Pkg; Pkg.add(\"StatsBase\"). \n",
    "- Right, let us now compute some simple statistics:"
   ]
  },
  {
   "cell_type": "markdown",
   "metadata": {},
   "source": [
    "The packages Statistics (from the standard library) and StatsBase offer a number of useful function for stats:"
   ]
  },
  {
   "cell_type": "code",
   "execution_count": 16,
   "metadata": {},
   "outputs": [],
   "source": [
    "using Statistics, StatsBase"
   ]
  },
  {
   "cell_type": "code",
   "execution_count": 17,
   "metadata": {},
   "outputs": [
    {
     "name": "stdout",
     "output_type": "stream",
     "text": [
      "(μ, σ) = (3.454582542993967e-5, 0.9988383954215323)\n"
     ]
    },
    {
     "data": {
      "text/plain": [
       "(3.454582542993967e-5, 0.9988383954215323)"
      ]
     },
     "execution_count": 17,
     "metadata": {},
     "output_type": "execute_result"
    }
   ],
   "source": [
    "x = randn(1_000) # 1_000 points iid from a N(0, 1)\n",
    "μ = mean(x)\n",
    "σ = std(x)\n",
    "@show (μ, σ)"
   ]
  },
  {
   "cell_type": "markdown",
   "metadata": {},
   "source": [
    "Indexing data starts at 1, use : to indicate the full range"
   ]
  },
  {
   "cell_type": "code",
   "execution_count": 18,
   "metadata": {},
   "outputs": [
    {
     "name": "stdout",
     "output_type": "stream",
     "text": [
      "X[1, 2] = 2\n",
      "X[:, 1] = [1, 3, 5]\n",
      "X[1, :] = [1, 2]\n",
      "X[[1, 2], [1, 2]] = [1 2; 3 4]\n"
     ]
    },
    {
     "data": {
      "text/plain": [
       "2×2 Matrix{Int64}:\n",
       " 1  2\n",
       " 3  4"
      ]
     },
     "execution_count": 18,
     "metadata": {},
     "output_type": "execute_result"
    }
   ],
   "source": [
    "X = [1 2; 3 4; 5 6]\n",
    "@show X[1, 2]\n",
    "@show X[:, 1]\n",
    "@show X[1, :]\n",
    "@show X[[1, 2], [1, 2]]"
   ]
  },
  {
   "cell_type": "markdown",
   "metadata": {},
   "source": [
    "size gives dimensions (nrows, ncolumns)\n"
   ]
  },
  {
   "cell_type": "code",
   "execution_count": 19,
   "metadata": {},
   "outputs": [
    {
     "data": {
      "text/plain": [
       "(3, 2)"
      ]
     },
     "execution_count": 19,
     "metadata": {},
     "output_type": "execute_result"
    }
   ],
   "source": [
    "size(X)"
   ]
  },
  {
   "cell_type": "markdown",
   "metadata": {},
   "source": [
    "# Loading data"
   ]
  },
  {
   "cell_type": "markdown",
   "metadata": {},
   "source": [
    "There are many ways to load data in Julia, one convenient one is via the CSV package.\n",
    "\n",
    "- using CSV\n",
    ": Many datasets are available via the RDatasets package\n",
    "\n",
    "- using RDatasets\n",
    ": And finally the DataFrames package allows to manipulate data easily\n",
    "\n",
    "- using DataFrames"
   ]
  },
  {
   "cell_type": "code",
   "execution_count": 2,
   "metadata": {},
   "outputs": [],
   "source": [
    "import Pkg; Pkg.add(\"RDatasets\")"
   ]
  },
  {
   "cell_type": "code",
   "execution_count": 3,
   "metadata": {},
   "outputs": [],
   "source": [
    "using CSV\n",
    "using RDatasets\n",
    "using DataFrames"
   ]
  },
  {
   "cell_type": "code",
   "execution_count": 4,
   "metadata": {},
   "outputs": [
    {
     "data": {
      "text/html": [
       "<div class=\"data-frame\"><p>3 rows × 9 columns (omitted printing of 1 columns)</p><table class=\"data-frame\"><thead><tr><th></th><th>MPG</th><th>Cylinders</th><th>Displacement</th><th>Horsepower</th><th>Weight</th><th>Acceleration</th><th>Year</th><th>Origin</th></tr><tr><th></th><th title=\"Float64\">Float64</th><th title=\"Float64\">Float64</th><th title=\"Float64\">Float64</th><th title=\"Float64\">Float64</th><th title=\"Float64\">Float64</th><th title=\"Float64\">Float64</th><th title=\"Float64\">Float64</th><th title=\"Float64\">Float64</th></tr></thead><tbody><tr><th>1</th><td>18.0</td><td>8.0</td><td>307.0</td><td>130.0</td><td>3504.0</td><td>12.0</td><td>70.0</td><td>1.0</td></tr><tr><th>2</th><td>15.0</td><td>8.0</td><td>350.0</td><td>165.0</td><td>3693.0</td><td>11.5</td><td>70.0</td><td>1.0</td></tr><tr><th>3</th><td>18.0</td><td>8.0</td><td>318.0</td><td>150.0</td><td>3436.0</td><td>11.0</td><td>70.0</td><td>1.0</td></tr></tbody></table></div>"
      ],
      "text/latex": [
       "\\begin{tabular}{r|ccccccccc}\n",
       "\t& MPG & Cylinders & Displacement & Horsepower & Weight & Acceleration & Year & Origin & \\\\\n",
       "\t\\hline\n",
       "\t& Float64 & Float64 & Float64 & Float64 & Float64 & Float64 & Float64 & Float64 & \\\\\n",
       "\t\\hline\n",
       "\t1 & 18.0 & 8.0 & 307.0 & 130.0 & 3504.0 & 12.0 & 70.0 & 1.0 & $\\dots$ \\\\\n",
       "\t2 & 15.0 & 8.0 & 350.0 & 165.0 & 3693.0 & 11.5 & 70.0 & 1.0 & $\\dots$ \\\\\n",
       "\t3 & 18.0 & 8.0 & 318.0 & 150.0 & 3436.0 & 11.0 & 70.0 & 1.0 & $\\dots$ \\\\\n",
       "\\end{tabular}\n"
      ],
      "text/plain": [
       "\u001b[1m3×9 DataFrame\u001b[0m\n",
       "\u001b[1m Row \u001b[0m│\u001b[1m MPG     \u001b[0m\u001b[1m Cylinders \u001b[0m\u001b[1m Displacement \u001b[0m\u001b[1m Horsepower \u001b[0m\u001b[1m Weight  \u001b[0m\u001b[1m Acceleration \u001b[0m\u001b[1m Ye\u001b[0m ⋯\n",
       "\u001b[1m     \u001b[0m│\u001b[90m Float64 \u001b[0m\u001b[90m Float64   \u001b[0m\u001b[90m Float64      \u001b[0m\u001b[90m Float64    \u001b[0m\u001b[90m Float64 \u001b[0m\u001b[90m Float64      \u001b[0m\u001b[90m Fl\u001b[0m ⋯\n",
       "─────┼──────────────────────────────────────────────────────────────────────────\n",
       "   1 │    18.0        8.0         307.0       130.0   3504.0          12.0     ⋯\n",
       "   2 │    15.0        8.0         350.0       165.0   3693.0          11.5\n",
       "   3 │    18.0        8.0         318.0       150.0   3436.0          11.0\n",
       "\u001b[36m                                                               3 columns omitted\u001b[0m"
      ]
     },
     "execution_count": 4,
     "metadata": {},
     "output_type": "execute_result"
    }
   ],
   "source": [
    "auto = dataset(\"ISLR\", \"Auto\")\n",
    "first(auto, 3)"
   ]
  },
  {
   "cell_type": "markdown",
   "metadata": {},
   "source": [
    "The describe function allows to get an idea for the data:"
   ]
  },
  {
   "cell_type": "code",
   "execution_count": 5,
   "metadata": {},
   "outputs": [
    {
     "data": {
      "text/html": [
       "<div class=\"data-frame\"><p>9 rows × 4 columns</p><table class=\"data-frame\"><thead><tr><th></th><th>variable</th><th>mean</th><th>median</th><th>std</th></tr><tr><th></th><th title=\"Symbol\">Symbol</th><th title=\"Union{Nothing, Float64}\">Union…</th><th title=\"Union{Nothing, Float64}\">Union…</th><th title=\"Union{Nothing, Float64}\">Union…</th></tr></thead><tbody><tr><th>1</th><td>MPG</td><td>23.4459</td><td>22.75</td><td>7.80501</td></tr><tr><th>2</th><td>Cylinders</td><td>5.47194</td><td>4.0</td><td>1.70578</td></tr><tr><th>3</th><td>Displacement</td><td>194.412</td><td>151.0</td><td>104.644</td></tr><tr><th>4</th><td>Horsepower</td><td>104.469</td><td>93.5</td><td>38.4912</td></tr><tr><th>5</th><td>Weight</td><td>2977.58</td><td>2803.5</td><td>849.403</td></tr><tr><th>6</th><td>Acceleration</td><td>15.5413</td><td>15.5</td><td>2.75886</td></tr><tr><th>7</th><td>Year</td><td>75.9796</td><td>76.0</td><td>3.68374</td></tr><tr><th>8</th><td>Origin</td><td>1.57653</td><td>1.0</td><td>0.805518</td></tr><tr><th>9</th><td>Name</td><td></td><td></td><td></td></tr></tbody></table></div>"
      ],
      "text/latex": [
       "\\begin{tabular}{r|cccc}\n",
       "\t& variable & mean & median & std\\\\\n",
       "\t\\hline\n",
       "\t& Symbol & Union… & Union… & Union…\\\\\n",
       "\t\\hline\n",
       "\t1 & MPG & 23.4459 & 22.75 & 7.80501 \\\\\n",
       "\t2 & Cylinders & 5.47194 & 4.0 & 1.70578 \\\\\n",
       "\t3 & Displacement & 194.412 & 151.0 & 104.644 \\\\\n",
       "\t4 & Horsepower & 104.469 & 93.5 & 38.4912 \\\\\n",
       "\t5 & Weight & 2977.58 & 2803.5 & 849.403 \\\\\n",
       "\t6 & Acceleration & 15.5413 & 15.5 & 2.75886 \\\\\n",
       "\t7 & Year & 75.9796 & 76.0 & 3.68374 \\\\\n",
       "\t8 & Origin & 1.57653 & 1.0 & 0.805518 \\\\\n",
       "\t9 & Name &  &  &  \\\\\n",
       "\\end{tabular}\n"
      ],
      "text/plain": [
       "\u001b[1m9×4 DataFrame\u001b[0m\n",
       "\u001b[1m Row \u001b[0m│\u001b[1m variable     \u001b[0m\u001b[1m mean    \u001b[0m\u001b[1m median \u001b[0m\u001b[1m std      \u001b[0m\n",
       "\u001b[1m     \u001b[0m│\u001b[90m Symbol       \u001b[0m\u001b[90m Union…  \u001b[0m\u001b[90m Union… \u001b[0m\u001b[90m Union…   \u001b[0m\n",
       "─────┼─────────────────────────────────────────\n",
       "   1 │ MPG           23.4459  22.75   7.80501\n",
       "   2 │ Cylinders     5.47194  4.0     1.70578\n",
       "   3 │ Displacement  194.412  151.0   104.644\n",
       "   4 │ Horsepower    104.469  93.5    38.4912\n",
       "   5 │ Weight        2977.58  2803.5  849.403\n",
       "   6 │ Acceleration  15.5413  15.5    2.75886\n",
       "   7 │ Year          75.9796  76.0    3.68374\n",
       "   8 │ Origin        1.57653  1.0     0.805518\n",
       "   9 │ Name         \u001b[90m         \u001b[0m\u001b[90m        \u001b[0m\u001b[90m          \u001b[0m"
      ]
     },
     "execution_count": 5,
     "metadata": {},
     "output_type": "execute_result"
    }
   ],
   "source": [
    "describe(auto, :mean, :median, :std)"
   ]
  },
  {
   "cell_type": "markdown",
   "metadata": {},
   "source": [
    "To retrieve column names, you can use names:"
   ]
  },
  {
   "cell_type": "code",
   "execution_count": 6,
   "metadata": {},
   "outputs": [
    {
     "data": {
      "text/plain": [
       "9-element Vector{String}:\n",
       " \"MPG\"\n",
       " \"Cylinders\"\n",
       " \"Displacement\"\n",
       " \"Horsepower\"\n",
       " \"Weight\"\n",
       " \"Acceleration\"\n",
       " \"Year\"\n",
       " \"Origin\"\n",
       " \"Name\""
      ]
     },
     "execution_count": 6,
     "metadata": {},
     "output_type": "execute_result"
    }
   ],
   "source": [
    "names(auto)"
   ]
  },
  {
   "cell_type": "markdown",
   "metadata": {},
   "source": [
    "You can also access the column names in other ways:"
   ]
  },
  {
   "cell_type": "code",
   "execution_count": 9,
   "metadata": {},
   "outputs": [
    {
     "data": {
      "text/plain": [
       "392-element Vector{Float64}:\n",
       " 18.0\n",
       " 15.0\n",
       " 18.0\n",
       " 16.0\n",
       " 17.0\n",
       " 15.0\n",
       " 14.0\n",
       " 14.0\n",
       " 14.0\n",
       " 15.0\n",
       " 15.0\n",
       " 14.0\n",
       " 15.0\n",
       "  ⋮\n",
       " 25.0\n",
       " 38.0\n",
       " 26.0\n",
       " 22.0\n",
       " 32.0\n",
       " 36.0\n",
       " 27.0\n",
       " 27.0\n",
       " 44.0\n",
       " 32.0\n",
       " 28.0\n",
       " 31.0"
      ]
     },
     "execution_count": 9,
     "metadata": {},
     "output_type": "execute_result"
    }
   ],
   "source": [
    "mpg = auto.MPG\n",
    "mpg = auto[:, 1]\n",
    "mpg = auto[:, :MPG]\n",
    "#mpg |> :mean"
   ]
  },
  {
   "cell_type": "markdown",
   "metadata": {},
   "source": [
    "To get dimensions you can use size and nrow and ncol"
   ]
  },
  {
   "cell_type": "code",
   "execution_count": 10,
   "metadata": {},
   "outputs": [
    {
     "name": "stdout",
     "output_type": "stream",
     "text": [
      "size(auto) = (392, 9)\n",
      "nrow(auto) = 392\n",
      "ncol(auto) = 9\n"
     ]
    },
    {
     "data": {
      "text/plain": [
       "9"
      ]
     },
     "execution_count": 10,
     "metadata": {},
     "output_type": "execute_result"
    }
   ],
   "source": [
    "@show size(auto)\n",
    "@show nrow(auto)\n",
    "@show ncol(auto)"
   ]
  },
  {
   "cell_type": "markdown",
   "metadata": {},
   "source": [
    "# Plotting data"
   ]
  },
  {
   "cell_type": "markdown",
   "metadata": {},
   "source": [
    "There are multiple libraries that can be used to plot things in Julia:\n",
    "\n",
    "- Plots.jl which supports multiple plotting backends,\n",
    "\n",
    "- Gadfly.jl influenced by the grammar of graphics and ggplot2\n",
    "\n",
    "- PyPlot.jl basically matplotlib\n",
    "\n",
    "- PGFPlotsX.jl and PGFPlots using the LaTeX package pgfplots,\n",
    "\n",
    "- Makie, Gaston, Vega, ...\n",
    "\n",
    "In these tutorials we use PyPlot but you could use another package of course.\n",
    "- Do not forget to run 'import Pkg; Pkg.add(\"PyPlot\")' to install PyPlot package if have not already done so.\n"
   ]
  },
  {
   "cell_type": "code",
   "execution_count": 13,
   "metadata": {},
   "outputs": [
    {
     "name": "stderr",
     "output_type": "stream",
     "text": [
      "┌ Info: Installing matplotlib via the Conda matplotlib package...\n",
      "└ @ PyCall /Users/h62343la/.julia/packages/PyCall/BD546/src/PyCall.jl:711\n",
      "┌ Info: Running `conda install -y matplotlib` in root environment\n",
      "└ @ Conda /Users/h62343la/.julia/packages/Conda/sNGum/src/Conda.jl:128\n"
     ]
    },
    {
     "name": "stdout",
     "output_type": "stream",
     "text": [
      "Collecting package metadata (current_repodata.json): ...working... done\n",
      "Solving environment: ...working... done\n",
      "\n",
      "## Package Plan ##\n",
      "\n",
      "  environment location: /Users/h62343la/.julia/conda/3\n",
      "\n",
      "  added / updated specs:\n",
      "    - matplotlib\n",
      "\n",
      "\n",
      "The following packages will be downloaded:\n",
      "\n",
      "    package                    |            build\n",
      "    ---------------------------|-----------------\n",
      "    cycler-0.10.0              |           py38_0          14 KB\n",
      "    freetype-2.10.4            |       ha233b18_0         564 KB\n",
      "    jpeg-9b                    |       he5867d9_2         201 KB\n",
      "    kiwisolver-1.3.1           |   py38h23ab428_0          52 KB\n",
      "    lcms2-2.12                 |       hf1fd2bf_0         284 KB\n",
      "    libpng-1.6.37              |       ha441bb4_0         262 KB\n",
      "    libtiff-4.2.0              |       h87d7836_0         462 KB\n",
      "    libwebp-base-1.2.0         |       h9ed2024_0         389 KB\n",
      "    lz4-c-1.9.3                |       h23ab428_0         140 KB\n",
      "    matplotlib-3.3.4           |   py38hecd8cb5_0          26 KB\n",
      "    matplotlib-base-3.3.4      |   py38h8b3ea08_0         5.1 MB\n",
      "    olefile-0.46               |             py_0          33 KB\n",
      "    openjpeg-2.3.0             |       hb95cd4c_1         281 KB\n",
      "    pillow-8.3.1               |   py38ha4cf6ea_0         604 KB\n",
      "    pyparsing-2.4.7            |     pyhd3eb1b0_0          59 KB\n",
      "    python-dateutil-2.8.1      |     pyhd3eb1b0_0         221 KB\n",
      "    tornado-6.1                |   py38h9ed2024_0         585 KB\n",
      "    zstd-1.4.9                 |       h322a384_0         476 KB\n",
      "    ------------------------------------------------------------\n",
      "                                           Total:         9.7 MB\n",
      "\n",
      "The following NEW packages will be INSTALLED:\n",
      "\n",
      "  cycler             pkgs/main/osx-64::cycler-0.10.0-py38_0\n",
      "  freetype           pkgs/main/osx-64::freetype-2.10.4-ha233b18_0\n",
      "  jpeg               pkgs/main/osx-64::jpeg-9b-he5867d9_2\n",
      "  kiwisolver         pkgs/main/osx-64::kiwisolver-1.3.1-py38h23ab428_0\n",
      "  lcms2              pkgs/main/osx-64::lcms2-2.12-hf1fd2bf_0\n",
      "  libpng             pkgs/main/osx-64::libpng-1.6.37-ha441bb4_0\n",
      "  libtiff            pkgs/main/osx-64::libtiff-4.2.0-h87d7836_0\n",
      "  libwebp-base       pkgs/main/osx-64::libwebp-base-1.2.0-h9ed2024_0\n",
      "  lz4-c              pkgs/main/osx-64::lz4-c-1.9.3-h23ab428_0\n",
      "  matplotlib         pkgs/main/osx-64::matplotlib-3.3.4-py38hecd8cb5_0\n",
      "  matplotlib-base    pkgs/main/osx-64::matplotlib-base-3.3.4-py38h8b3ea08_0\n",
      "  olefile            pkgs/main/noarch::olefile-0.46-py_0\n",
      "  openjpeg           pkgs/main/osx-64::openjpeg-2.3.0-hb95cd4c_1\n",
      "  pillow             pkgs/main/osx-64::pillow-8.3.1-py38ha4cf6ea_0\n",
      "  pyparsing          pkgs/main/noarch::pyparsing-2.4.7-pyhd3eb1b0_0\n",
      "  python-dateutil    pkgs/main/noarch::python-dateutil-2.8.1-pyhd3eb1b0_0\n",
      "  tornado            pkgs/main/osx-64::tornado-6.1-py38h9ed2024_0\n",
      "  zstd               pkgs/main/osx-64::zstd-1.4.9-h322a384_0\n",
      "\n",
      "\n",
      "\n",
      "Downloading and Extracting Packages\n",
      "freetype-2.10.4      | 564 KB    | #################################### | 100% \n",
      "pyparsing-2.4.7      | 59 KB     | #################################### | 100% \n",
      "zstd-1.4.9           | 476 KB    | #################################### | 100% \n",
      "kiwisolver-1.3.1     | 52 KB     | #################################### | 100% \n",
      "python-dateutil-2.8. | 221 KB    | #################################### | 100% \n",
      "matplotlib-base-3.3. | 5.1 MB    | #################################### | 100% \n",
      "jpeg-9b              | 201 KB    | #################################### | 100% \n",
      "pillow-8.3.1         | 604 KB    | #################################### | 100% \n",
      "matplotlib-3.3.4     | 26 KB     | #################################### | 100% \n",
      "openjpeg-2.3.0       | 281 KB    | #################################### | 100% \n",
      "cycler-0.10.0        | 14 KB     | #################################### | 100% \n",
      "tornado-6.1          | 585 KB    | #################################### | 100% \n",
      "olefile-0.46         | 33 KB     | #################################### | 100% \n",
      "libpng-1.6.37        | 262 KB    | #################################### | 100% \n",
      "libtiff-4.2.0        | 462 KB    | #################################### | 100% \n",
      "lz4-c-1.9.3          | 140 KB    | #################################### | 100% \n",
      "lcms2-2.12           | 284 KB    | #################################### | 100% \n",
      "libwebp-base-1.2.0   | 389 KB    | #################################### | 100% \n",
      "Preparing transaction: ...working... done\n",
      "Verifying transaction: ...working... done\n",
      "Executing transaction: ...working... done\n"
     ]
    },
    {
     "name": "stderr",
     "output_type": "stream",
     "text": [
      "┌ Info: Installing pyqt package to avoid buggy tkagg backend.\n",
      "└ @ PyPlot /Users/h62343la/.julia/packages/PyPlot/XHEG0/src/init.jl:118\n",
      "┌ Info: Installing PyQt5 via the Conda pyqt package...\n",
      "└ @ PyCall /Users/h62343la/.julia/packages/PyCall/BD546/src/PyCall.jl:711\n",
      "┌ Info: Running `conda install -y pyqt` in root environment\n",
      "└ @ Conda /Users/h62343la/.julia/packages/Conda/sNGum/src/Conda.jl:128\n"
     ]
    },
    {
     "name": "stdout",
     "output_type": "stream",
     "text": [
      "Collecting package metadata (current_repodata.json): ...working... done\n",
      "Solving environment: ...working... done\n",
      "\n",
      "## Package Plan ##\n",
      "\n",
      "  environment location: /Users/h62343la/.julia/conda/3\n",
      "\n",
      "  added / updated specs:\n",
      "    - pyqt\n",
      "\n",
      "\n",
      "The following packages will be downloaded:\n",
      "\n",
      "    package                    |            build\n",
      "    ---------------------------|-----------------\n",
      "    dbus-1.13.18               |       h18a8e69_0         445 KB\n",
      "    expat-2.4.1                |       h23ab428_2         122 KB\n",
      "    gettext-0.21.0             |       h7535e17_0         2.6 MB\n",
      "    glib-2.69.0                |       hdf23fa2_0         2.7 MB\n",
      "    icu-58.2                   |       h0a44026_3        10.1 MB\n",
      "    libiconv-1.16              |       h1de35cc_0         693 KB\n",
      "    libxml2-2.9.12             |       hcdb78fc_0         1.1 MB\n",
      "    llvm-openmp-10.0.0         |       h28b9765_0         236 KB\n",
      "    pcre-8.45                  |       h23ab428_0         181 KB\n",
      "    pyqt-5.9.2                 |   py38h655552a_2         3.6 MB\n",
      "    qt-5.9.7                   |       h468cd18_1        62.0 MB\n",
      "    sip-4.19.8                 |   py38h0a44026_0         239 KB\n",
      "    ------------------------------------------------------------\n",
      "                                           Total:        84.0 MB\n",
      "\n",
      "The following NEW packages will be INSTALLED:\n",
      "\n",
      "  dbus               pkgs/main/osx-64::dbus-1.13.18-h18a8e69_0\n",
      "  expat              pkgs/main/osx-64::expat-2.4.1-h23ab428_2\n",
      "  gettext            pkgs/main/osx-64::gettext-0.21.0-h7535e17_0\n",
      "  glib               pkgs/main/osx-64::glib-2.69.0-hdf23fa2_0\n",
      "  icu                pkgs/main/osx-64::icu-58.2-h0a44026_3\n",
      "  libiconv           pkgs/main/osx-64::libiconv-1.16-h1de35cc_0\n",
      "  libxml2            pkgs/main/osx-64::libxml2-2.9.12-hcdb78fc_0\n",
      "  llvm-openmp        pkgs/main/osx-64::llvm-openmp-10.0.0-h28b9765_0\n",
      "  pcre               pkgs/main/osx-64::pcre-8.45-h23ab428_0\n",
      "  pyqt               pkgs/main/osx-64::pyqt-5.9.2-py38h655552a_2\n",
      "  qt                 pkgs/main/osx-64::qt-5.9.7-h468cd18_1\n",
      "  sip                pkgs/main/osx-64::sip-4.19.8-py38h0a44026_0\n",
      "\n",
      "\n",
      "\n",
      "Downloading and Extracting Packages\n",
      "libiconv-1.16        | 693 KB    | #################################### | 100% \n",
      "libxml2-2.9.12       | 1.1 MB    | #################################### | 100% \n",
      "icu-58.2             | 10.1 MB   | #################################### | 100% \n",
      "expat-2.4.1          | 122 KB    | #################################### | 100% \n",
      "gettext-0.21.0       | 2.6 MB    | #################################### | 100% \n",
      "glib-2.69.0          | 2.7 MB    | #################################### | 100% \n",
      "llvm-openmp-10.0.0   | 236 KB    | #################################### | 100% \n",
      "qt-5.9.7             | 62.0 MB   | #################################### | 100% \n",
      "pcre-8.45            | 181 KB    | #################################### | 100% \n",
      "dbus-1.13.18         | 445 KB    | #################################### | 100% \n",
      "pyqt-5.9.2           | 3.6 MB    | #################################### | 100% \n",
      "sip-4.19.8           | 239 KB    | #################################### | 100% \n",
      "Preparing transaction: ...working... done\n",
      "Verifying transaction: ...working... done\n",
      "Executing transaction: ...working... done\n"
     ]
    },
    {
     "data": {
      "image/png": "[encoded data removed]",
      "text/plain": [
       "Figure(PyObject <Figure size 800x600 with 1 Axes>)"
      ]
     },
     "metadata": {},
     "output_type": "display_data"
    },
    {
     "data": {
      "text/plain": [
       "1-element Vector{PyCall.PyObject}:\n",
       " PyObject <matplotlib.lines.Line2D object at 0x7fd3794a4130>"
      ]
     },
     "execution_count": 13,
     "metadata": {},
     "output_type": "execute_result"
    }
   ],
   "source": [
    "using PyPlot\n",
    "\n",
    "figure(figsize=(8,6))\n",
    "plot(mpg)"
   ]
  },
  {
   "cell_type": "code",
   "execution_count": null,
   "metadata": {},
   "outputs": [],
   "source": []
  }
 ],
 "metadata": {
  "kernelspec": {
   "display_name": "Julia 1.6.1",
   "language": "julia",
   "name": "julia-1.6"
  },
  "language_info": {
   "file_extension": ".jl",
   "mimetype": "application/julia",
   "name": "julia",
   "version": "1.6.1"
  }
 },
 "nbformat": 4,
 "nbformat_minor": 4
}
